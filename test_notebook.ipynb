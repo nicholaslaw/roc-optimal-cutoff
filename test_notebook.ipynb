{
 "cells": [
  {
   "cell_type": "markdown",
   "metadata": {},
   "source": [
    "# Test Notebook"
   ]
  },
  {
   "cell_type": "markdown",
   "metadata": {},
   "source": [
    "Run this cell below if you wish to generate a test dataset"
   ]
  },
  {
   "cell_type": "code",
   "execution_count": 2,
   "metadata": {},
   "outputs": [],
   "source": [
    "%run -i \"generate_test_data.py\""
   ]
  },
  {
   "cell_type": "markdown",
   "metadata": {},
   "source": [
    "# ROC Thresholder"
   ]
  },
  {
   "cell_type": "code",
   "execution_count": 3,
   "metadata": {},
   "outputs": [],
   "source": [
    "from config import *\n",
    "import thresholder"
   ]
  },
  {
   "cell_type": "code",
   "execution_count": 4,
   "metadata": {},
   "outputs": [],
   "source": [
    "proba_thresholder = thresholder.ROC_Thresholder()\n",
    "proba_thresholder.fit(test_configs[\"label_prob_path\"], test_configs[\"label_idx_dic_path\"],\n",
    "                        test_configs[\"true_labels_field\"], test_configs[\"results_folder\"])"
   ]
  },
  {
   "cell_type": "code",
   "execution_count": 5,
   "metadata": {},
   "outputs": [
    {
     "name": "stdout",
     "output_type": "stream",
     "text": [
      "[1, 0, 0, 2, 0, 1, 2, 1, 1, 0, 2, 1, 1, 2, 1, 0, 0, 1, 0, 2, 1, 0, 1, 2, 0, 2, 2, 0, 1, 0, 2, 1, 1, 2, 2, 0, 0, 0, 1, 2, 0, 1, 0, 1, 1, 2, 0, 2, 0, 1, 1, 0, 2, 0, 1, 1, 0, 0, 0, 2, 2, 2, 0, 0, 1, 0, 0, 1, 2, 0, 1, 2, 1, 1, 2, 2, 2, 2, 2, 2, 0, 2, 1, 1, 2, 1, 1, 1, 0, 0, 1, 1, 0, 0, 2, 1, 0, 0, 1, 1]\n"
     ]
    }
   ],
   "source": [
    "print(proba_thresholder.transform(save=False, indices=True))"
   ]
  },
  {
   "cell_type": "code",
   "execution_count": 6,
   "metadata": {},
   "outputs": [
    {
     "name": "stdout",
     "output_type": "stream",
     "text": [
      "[1, 0, 0, 2, 0, 1, 2, 1, 1, 0, 2, 1, 1, 2, 1, 0, 0, 1, 0, 2, 1, 0, 1, 2, 0, 2, 2, 0, 1, 0, 2, 1, 1, 2, 2, 0, 0, 0, 1, 2, 0, 1, 0, 1, 1, 2, 0, 2, 0, 1, 1, 0, 2, 0, 1, 1, 0, 0, 0, 2, 2, 2, 0, 0, 1, 0, 0, 1, 2, 0, 1, 2, 1, 1, 2, 2, 2, 2, 2, 2, 0, 2, 1, 1, 2, 1, 1, 1, 0, 0, 1, 1, 0, 0, 2, 1, 0, 0, 1, 1]\n"
     ]
    }
   ],
   "source": [
    "print(proba_thresholder.fit_transform(test_configs[\"label_prob_path\"], test_configs[\"label_idx_dic_path\"],\n",
    "                        test_configs[\"true_labels_field\"], test_configs[\"results_folder\"], save=False, indices=True))"
   ]
  },
  {
   "cell_type": "code",
   "execution_count": null,
   "metadata": {},
   "outputs": [],
   "source": []
  }
 ],
 "metadata": {
  "kernelspec": {
   "display_name": "Python 3",
   "language": "python",
   "name": "python3"
  },
  "language_info": {
   "codemirror_mode": {
    "name": "ipython",
    "version": 3
   },
   "file_extension": ".py",
   "mimetype": "text/x-python",
   "name": "python",
   "nbconvert_exporter": "python",
   "pygments_lexer": "ipython3",
   "version": "3.6.4"
  }
 },
 "nbformat": 4,
 "nbformat_minor": 2
}
